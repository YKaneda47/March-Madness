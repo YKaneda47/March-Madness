{
 "cells": [
  {
   "cell_type": "code",
   "execution_count": 27,
   "id": "5e9021c6",
   "metadata": {},
   "outputs": [],
   "source": [
    "import numpy as np\n",
    "import pandas as pd\n",
    "import matplotlib.pyplot as plt\n",
    "from sklearn.model_selection import train_test_split, GridSearchCV, RandomizedSearchCV\n",
    "import pprint\n",
    "from sklearn.preprocessing import StandardScaler\n",
    "%matplotlib inline\n",
    "\n",
    "from sklearn.metrics import f1_score, recall_score, accuracy_score, precision_score, confusion_matrix\n",
    "from sklearn.metrics import r2_score, roc_auc_score, roc_curve, classification_report\n",
    "import xgboost as xgb\n",
    "from sklearn.model_selection import cross_validate\n",
    "from sklearn.model_selection import ShuffleSplit\n",
    "from sklearn.model_selection import KFold\n",
    "\n",
    "DATASET1 = 'march madness past data.csv'\n",
    "DATASET2 = 'march madness this year.csv'"
   ]
  },
  {
   "cell_type": "code",
   "execution_count": 28,
   "id": "c956071c",
   "metadata": {},
   "outputs": [
    {
     "name": "stdout",
     "output_type": "stream",
     "text": [
      "   YEAR  SEED  target  K TEMPO  K TEMPO RANK   KADJ T  KADJ T RANK    K OFF  \\\n",
      "0  2023     1       4  72.8260            12  72.7469            4  110.862   \n",
      "1  2023     2       6  72.8989            10  72.3118            9  113.208   \n",
      "2  2023    11       6  69.1548           121  68.4035          131  100.983   \n",
      "3  2023     8       4  70.1147            73  69.6808           54  105.743   \n",
      "4  2023     9       5  68.6925           145  67.6112          165  105.387   \n",
      "5  2023     3       5  67.8723           185  66.5510          217  113.141   \n",
      "6  2023    10       6  67.0127           229  66.5002          219  105.781   \n",
      "7  2023    15       6  68.0072           179  67.8783          156  114.974   \n",
      "8  2023    12       6  70.8386            44  70.9567           29  112.460   \n",
      "9  2023     4       0  68.5693           154  66.6901          210  114.228   \n",
      "\n",
      "   KO RANK   KADJ O  ...  EFF HGT RANK  EXP RANK  TALENT RANK  FT% RANK  \\\n",
      "0       32  116.097  ...            10       353           19       146   \n",
      "1       13  119.979  ...             5       184            8       218   \n",
      "2      236  107.586  ...            70       114           54       288   \n",
      "3      119  112.596  ...           132       330           11       287   \n",
      "4      131  112.689  ...            54       130           58       245   \n",
      "5       14  121.852  ...           120       238           34        64   \n",
      "6      118  110.969  ...           245       145          139       107   \n",
      "7        7  112.963  ...            52       123          362       332   \n",
      "8       17  111.378  ...           204       171          362        85   \n",
      "9        9  119.437  ...            62       274           23        49   \n",
      "\n",
      "   OP FT% RANK  PPPO RANK  PPPD RANK  ELITE SOS RANK  CONF_encoded  \\\n",
      "0          163         33          6              10            27   \n",
      "1          163         12         66              35            23   \n",
      "2          102        244         46              45            23   \n",
      "3          163        120         35              26            27   \n",
      "4          124        130         53              29            27   \n",
      "5          134         14        176               3             6   \n",
      "6           63        120         29              71            19   \n",
      "7           38          7        140             343            24   \n",
      "8           28         17         15             336            11   \n",
      "9          286          9         22              38             7   \n",
      "\n",
      "   TEAM_encoded  \n",
      "0             2  \n",
      "1             7  \n",
      "2             8  \n",
      "3             9  \n",
      "4            11  \n",
      "5            14  \n",
      "6            17  \n",
      "7            35  \n",
      "8            36  \n",
      "9            39  \n",
      "\n",
      "[10 rows x 98 columns]\n"
     ]
    }
   ],
   "source": [
    "df = pd.read_csv(DATASET1)\n",
    "df2 = pd.read_csv(DATASET2)\n",
    "print(df.head(10))"
   ]
  },
  {
   "cell_type": "code",
   "execution_count": 29,
   "id": "56b15abe",
   "metadata": {},
   "outputs": [
    {
     "data": {
      "text/plain": [
       "YEAR              0\n",
       "SEED              0\n",
       "target            0\n",
       "K TEMPO           0\n",
       "K TEMPO RANK      0\n",
       "                 ..\n",
       "PPPO RANK         0\n",
       "PPPD RANK         0\n",
       "ELITE SOS RANK    0\n",
       "CONF_encoded      0\n",
       "TEAM_encoded      0\n",
       "Length: 98, dtype: int64"
      ]
     },
     "execution_count": 29,
     "metadata": {},
     "output_type": "execute_result"
    }
   ],
   "source": [
    "df.isnull().sum()"
   ]
  },
  {
   "cell_type": "code",
   "execution_count": 30,
   "id": "63ddbe0b",
   "metadata": {},
   "outputs": [],
   "source": [
    "# Split dataset into X and Y\n",
    "X_train = df.iloc[:, df.columns != 'target']\n",
    "y_train = df['target']\n",
    "X_test = df2.iloc[:, df2.columns != 'target']"
   ]
  },
  {
   "cell_type": "code",
   "execution_count": 31,
   "id": "4c6b0382",
   "metadata": {},
   "outputs": [
    {
     "name": "stdout",
     "output_type": "stream",
     "text": [
      "[57.92488   49.54475   40.6068    38.752037  50.62883   60.008476\n",
      " 56.59443   49.480633  59.51773   55.285114  61.84307   54.8359\n",
      "  6.0872316 42.05685   52.987446  48.61327   41.178425  52.736877\n",
      " 62.037395  60.2306    52.940456  66.173546  57.96905    9.7304\n",
      " 65.164116  41.969337  38.965668  56.16775   56.458595  51.346004\n",
      " 60.33405   61.04209   41.051495  56.213146  48.939922  51.16155\n",
      " 61.89247   53.339733  57.061493  58.578953  50.369373  38.866096\n",
      " 60.493057  57.2261    60.051617  49.079056  24.859758  50.747684\n",
      " 60.768723  60.383953  55.980904  44.647305  57.88189   65.53172\n",
      " 56.87166   42.70653   54.659973  48.68423   54.46647   59.32091\n",
      " 54.54193   58.094448  61.637913  56.426197  51.475693  60.374313\n",
      " 48.708492  58.01612  ]\n"
     ]
    }
   ],
   "source": [
    "for i in range(0, 10):\n",
    "    #Creating an XGBoost regressor\n",
    "    model = xgb.XGBRegressor()\n",
    "\n",
    "    #Training the model on the training data\n",
    "    model.fit(X_train, y_train)\n",
    "\n",
    "    if i > 0:\n",
    "        y_pred = np.add(y_pred, model.predict(X_test))\n",
    "    else:\n",
    "        y_pred = model.predict(X_test)\n",
    "\n",
    "print(y_pred)"
   ]
  },
  {
   "cell_type": "code",
   "execution_count": 32,
   "id": "4bdd929c",
   "metadata": {},
   "outputs": [],
   "source": [
    "df2.insert(0, \"Prediction\", y_pred, True)"
   ]
  },
  {
   "cell_type": "code",
   "execution_count": 33,
   "id": "1b0e55ef",
   "metadata": {},
   "outputs": [],
   "source": [
    "# for ind in df2.index:\n",
    "#     if df2['Prediction'][ind] == 0:\n",
    "#         df2['Prediction'][ind] = 'CHAMP'\n",
    "#     if df2['Prediction'][ind] == 1:\n",
    "#         df2['Prediction'][ind] = 'QTR'\n",
    "#     if df2['Prediction'][ind] == 2:\n",
    "#         df2['Prediction'][ind] = 'SEMI'\n",
    "#     if df2['Prediction'][ind] == 3:\n",
    "#         df2['Prediction'][ind] = 'QTR'\n",
    "#     if df2['Prediction'][ind] == 4:\n",
    "#         df2['Prediction'][ind] = 'R16'\n",
    "#     if df2['Prediction'][ind] == 5:\n",
    "#         df2['Prediction'][ind] = 'R32'\n",
    "#     if df2['Prediction'][ind] == 6:\n",
    "#         df2['Prediction'][ind] = 'R64'\n",
    "#     if df2['Prediction'][ind] == 7:\n",
    "#         df2['Prediction'][ind] = 'FIRST4'\n",
    "        \n",
    "# df2.head()"
   ]
  },
  {
   "cell_type": "code",
   "execution_count": 34,
   "id": "e289a47c",
   "metadata": {},
   "outputs": [],
   "source": [
    "df2.to_csv('march madness classification pred.csv', encoding='utf-8', index=False)"
   ]
  },
  {
   "cell_type": "code",
   "execution_count": null,
   "id": "78ef8e21",
   "metadata": {},
   "outputs": [],
   "source": []
  }
 ],
 "metadata": {
  "kernelspec": {
   "display_name": "Python 3",
   "language": "python",
   "name": "python3"
  },
  "language_info": {
   "codemirror_mode": {
    "name": "ipython",
    "version": 3
   },
   "file_extension": ".py",
   "mimetype": "text/x-python",
   "name": "python",
   "nbconvert_exporter": "python",
   "pygments_lexer": "ipython3",
   "version": "3.8.8"
  }
 },
 "nbformat": 4,
 "nbformat_minor": 5
}
